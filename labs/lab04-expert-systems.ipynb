{
 "cells": [
  {
   "cell_type": "markdown",
   "metadata": {},
   "source": [
    "# Cvičenie 4: Expertné systémy"
   ]
  },
  {
   "cell_type": "markdown",
   "metadata": {},
   "source": [
    "Expertné systémy boli prvými systémami používajúce umelú inteligenciu ktoré našli široké použitie a dosiahli veľké úspechy. Ich cieľom je napodobňovať spôsob rozhodovania ľudských expertov a tak nájsť riešenie na problémy, ktoré nedokážeme vyriešiť pomocou priamočiarych algoritmov. Na dnešnom cvičení naimplementujete dva takéto jednoduché systémy v jazyku Python."
   ]
  },
  {
   "cell_type": "markdown",
   "metadata": {},
   "source": [
    "## Architektúra expertných systémov"
   ]
  },
  {
   "cell_type": "markdown",
   "metadata": {},
   "source": [
    "Všeobecne expertné systémy sa skladajú z troch základných častí:\n",
    "* báza znalostí - reprezentácia znalostí znalca (experta) v počítači, popisuje všeobecné fakty a metódy riešenia problému istého typu; zvyčajne má formu produkčných pravidiel **IF condition THEN consequence**\n",
    "* báza údajov - obsahuje fakty súvisiace s konkrétnym príkladom, ktorý chceme vyriešiť; tieto fakty zadá používateľ, ktorý interaguje so systémom\n",
    "* inferenčný mechanizmus - \"mozog\" systému, ktorý na základe znalostí a údajov nájde riešenie na problém, alebo zistí, že problém nie je riešiteľný pomocou prístupných znalostí a dát"
   ]
  },
  {
   "cell_type": "markdown",
   "metadata": {},
   "source": [
    "Dnes ale vytvoríme jednoduchší systém, v ktorom báza znalostí bude reprezentovaná implicitne (t.j. v samotnom kóde), čo znamená, že nebudeme potrebovať inferenčný mechanizmus. Interakcia s expertným systémom bude mať formu otázok a odpovedí, pričom tok interakcie bude daný jednoznačne. Na návrh takýchto interakcií môžeme používať tzv. rozhodovacie stromy, ktoré modelujú všetky možné odpovede na jednotlivé otázky a na základe odpovede určujú ďalšiu otázku. Rozhodovacie stromy sa používajú najčastejšie na klasifikáciu, ale dnes ich použijeme ako modelovací nástroj pre návrh jednoduchého expertného systému."
   ]
  },
  {
   "cell_type": "markdown",
   "metadata": {},
   "source": [
    "Rozhodovací strom sa skladá z uzlov a z hrán, kde každý uzol reprezentuje rozhodovanie na základe jedného atribútu (alebo faktu). Z každého uzla smerujú hrany, ku ktorým sú priradené všetky možné diskrétne hodnoty výsledku rozhodovania. Listové uzly (uzly, z ktorých nesmerujú hrany) môžu byť výsledky klasifikácie alebo - v našom prípade - riešenie problému.\n",
    "\n",
    "Príklad rozhodovacieho stromu vidíte na obrázku nižšie:\n",
    "\n",
    "![Rozhodovací strom](https://media.geeksforgeeks.org/wp-content/cdn-uploads/Decision_Tree-2.png)"
   ]
  },
  {
   "cell_type": "markdown",
   "metadata": {},
   "source": [
    "## Úloha 1: Expertný systém pre riešenie poruchy"
   ]
  },
  {
   "cell_type": "markdown",
   "metadata": {},
   "source": [
    "Vašou prvou úlohou je navrhnúť expertný systém, ktorý pomôže používateľovi vyriešiť jednoduchý problém: v izbe je tma, pretože žiarovka nesvieti. Váš expertný systém by sa mal opýtať používateľa na možné príčiny tohto problému a po identifikácii príčiny problému navrhnúť spôsob, ako ju odstrániť."
   ]
  },
  {
   "cell_type": "markdown",
   "metadata": {},
   "source": [
    "### Úloha 1.1: Analýza problému"
   ]
  },
  {
   "cell_type": "markdown",
   "metadata": {},
   "source": [
    "Analyzujte úlohu a spoločne navrhnite rozhodovací strom, ktorý bude reprezentovať interakciu medzi expertným systémom a používateľom."
   ]
  },
  {
   "cell_type": "markdown",
   "metadata": {},
   "source": [
    "### Úloha 1.2: Implementácia expertného systému"
   ]
  },
  {
   "cell_type": "markdown",
   "metadata": {},
   "source": [
    "Na základe navrhnutého rozhodovacieho stromu implementujte systém v jazyku Python. Na reprezentáciu rozhodovania použite vetvenie, vstup od používateľa získate pomocou funkcie `input`."
   ]
  },
  {
   "cell_type": "markdown",
   "metadata": {},
   "source": [
    "### Úloha 1.3: Testovanie systému"
   ]
  },
  {
   "cell_type": "markdown",
   "metadata": {},
   "source": [
    "Poslednou úlohou je testovať implementovaný systém. Odporúčame, aby ste skript spustili cez príkazový riadok (pre jednoduchšie načítavanie vstupu od používateľa) pomocou príkazu `python nazov_skriptu.py`. Interakcia so systémom môže vyzerať napríklad takto:\n",
    "\n",
    "```\n",
    "Je v lampe žiarovka?\n",
    "ano\n",
    "Je vlákno žiarovky neporušené?\n",
    "nie\n",
    "Musíš vymeniť žiarovku.\n",
    "```"
   ]
  },
  {
   "cell_type": "markdown",
   "metadata": {},
   "source": [
    "## Úloha 2: Expertný systém"
   ]
  },
  {
   "cell_type": "markdown",
   "metadata": {},
   "source": [
    "Navrhnite ďalší expertný systém na rovnakom princípe ale s viacerými uzlami rozhodovania. Problém, ktorý systém má vyriešiť si môžete navrhnúť sami, alebo môžete použiť niektorý z nižšie uvedených. Vaše systémy musia mať aspoň 20 uzlov rozhodovania.\n",
    "\n",
    "Možné expertné systémy:\n",
    "* expertný systém, ktorý pomôže prvákom odhaliť, prečo nedostali maximálny počet bodov na zadanie z programovania\n",
    "* experntý systém, ktorý nájde krajinu, na ktorú používateľ myslí\n",
    "* expertný systém, ktorý odporúča knihy/filmy/hudbu, ktoré by sa páčili používateľovi"
   ]
  },
  {
   "cell_type": "markdown",
   "metadata": {},
   "source": [
    "## Záver"
   ]
  },
  {
   "cell_type": "markdown",
   "metadata": {},
   "source": [
    "Na dnešnom cvičení ste implementovali niekoľko jednoduchých expertných systémov. Sami ale vidíte, že takýto prístup je veľmi limitovaný a nevhodný pre návrh mohutnejších systémov pre riešenie reálnych problémov zo života. Práve preto expertné systémy nasadené v praxi obsahujú aj inferenčný mechanizmus, ktorý už aj z malého množstva znalostí a z malého počtu dát dokáže nájsť riešenia pre väčšie problémy. Budúci týždeň si naimplementujete takéto systémy s inferenčným mechanizmom."
   ]
  }
 ],
 "metadata": {
  "kernelspec": {
   "display_name": "Python 3",
   "language": "python",
   "name": "python3"
  },
  "language_info": {
   "codemirror_mode": {
    "name": "ipython",
    "version": 3
   },
   "file_extension": ".py",
   "mimetype": "text/x-python",
   "name": "python",
   "nbconvert_exporter": "python",
   "pygments_lexer": "ipython3",
   "version": "3.7.4"
  }
 },
 "nbformat": 4,
 "nbformat_minor": 2
}
