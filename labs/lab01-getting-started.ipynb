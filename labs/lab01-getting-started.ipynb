{
 "cells": [
  {
   "cell_type": "markdown",
   "metadata": {},
   "source": [
    "# Cvičenie 1: Prvé kroky v Pythone"
   ]
  },
  {
   "cell_type": "markdown",
   "metadata": {},
   "source": [
    "Na tomto predmete budeme používať programovací jazyk Python, ktorý sa značne líši od C a práve preto na dnešnom cvičení sa pozrieme na najväčšie rozdiely a naprogramujeme niekoľko jednoduchých programov.\n",
    "\n",
    "Na školských počítačoch už máte nainštalovaný Python, ako programovacie prostredie môžete používať PyCharm alebo IDE samotného Pythona - Python IDLE. Ak chcete pracovať na vlastných počítačoch, odporúčame, aby ste si nainštalovali distribúciu Anaconda, ktorá obsahuje niekoľko knižníc pre strojové učenie, ktoré určite využijete počas svojho štúdia. Anacondu si môžete stiahnuť [tu](https://www.anaconda.com/distribution/), len dávajte si pozor aby ste si nainštalovali aktuálnu verziu Python 3. Anaconda prichádza s vlastným programátorským prostredím Spyder.\n",
    "\n",
    "Alternatívne môžete používať čistý Python, ale je možné, že si budete musieť doinštalovať niektoré knižnice. Inštalačný súbor nájdete [na tejto stránke](https://www.python.org/downloads/)."
   ]
  },
  {
   "cell_type": "markdown",
   "metadata": {},
   "source": [
    "## 1. Premenné"
   ]
  },
  {
   "cell_type": "markdown",
   "metadata": {},
   "source": [
    "Základom každého programu sú hodnoty a premenné, ktoré slúžia na ukladanie týchto hodnôt. Jedným z najväčších rozdielov medzi C a Pythonom je práve spôsob, ako pracujú s premennými. Kým v C ste museli pri definícii premennej uviesť aj jej typ, Python je **dynamicky typovaný** jazyk. To znamená, že ako programátori potrebujete určiť iba názov premennej, typ sa určí automaticky.\n",
    "\n",
    "Pozrime sa teda na to, ako sa definujú premenné v Pythone oproti C:"
   ]
  },
  {
   "cell_type": "code",
   "execution_count": null,
   "metadata": {},
   "outputs": [],
   "source": [
    "# int number = 5; // definícia premennej v C\n",
    "number = 5  # definícia premennej v Pythone"
   ]
  },
  {
   "cell_type": "markdown",
   "metadata": {},
   "source": [
    "Na prvý pohľad sa to môže zdať ako skvelé riešenie, ktoré nám uľahčí prácu, ale takisto to môže spôsobovať niekoľko problémov. Aj keď interpreter jazyka dokáže zistiť typ premennej pri každom kroku, stále musíme aj my očakávať typ hodnoty premennej pre úspešnú prácu s ňou. V opačnom prípade sa môže stať, že by sme chceli urobiť výpočty s premennou, ktorá v sebe uchováva hodnotou nad ktorou danú operáciu nie je možné vykonať.\n",
    "\n",
    "Ak vo vašom programe potrebujete explicitne skontrolovať typ premennej, môžete tak urobiť pomocou metódy `type`:"
   ]
  },
  {
   "cell_type": "code",
   "execution_count": null,
   "metadata": {},
   "outputs": [],
   "source": [
    "number = 5\n",
    "type(number)  # vráti int"
   ]
  },
  {
   "cell_type": "markdown",
   "metadata": {},
   "source": [
    "Primitívne typy sú v Pythone veľmi podobné C:\n",
    "* integer (int) - celé číslo\n",
    "* float - desatinné číslo\n",
    "* boolean - booleovská hodnota (`True` alebo `False`)\n",
    "\n",
    "Okrem týchto typov Python definuje niekoľko údajových štruktúr, ktoré môžeme považovať za primitívne typy a s ktorými sa naučíte pracovať na ďalšom cvičení:\n",
    "* string - reťazec znakov\n",
    "* list - zoznam ľubovoľných hodnôt\n",
    "* tuple (n-tica) - nemeniteľná postupnosť ľubovoľných hodnôt\n",
    "* dictionary (asociatívne pole) - množina hodnôt typu kľúč-hodnota\n",
    "\n",
    "Na záver ešte uvedieme špeciálnu hodnotu, ktorú rôzne programovacie jazyky definujú rôznym spôsobom, a to je chýbajúca hodnota, resp. null hodnota. V Pythone sa definuje ako `None`."
   ]
  },
  {
   "cell_type": "markdown",
   "metadata": {},
   "source": [
    "## 2. Operátory"
   ]
  },
  {
   "cell_type": "markdown",
   "metadata": {},
   "source": [
    "Základom programu nie sú iba hodnoty a premenné ale aj jednoduché operácie, ktoré vieme nad nimi vykonať. Tieto jednoduché operácie sú dostupné cez operátory, ktoré sú veľmi podobné operátorom jazyka C, avšak vzhľadom na dynamické typovanie premenných v Pythone niekedy ukazujú celkom zvláštne funkcionality."
   ]
  },
  {
   "cell_type": "markdown",
   "metadata": {},
   "source": [
    "### 2.1. Aritmetické operátory"
   ]
  },
  {
   "cell_type": "markdown",
   "metadata": {},
   "source": [
    "Aritmetické operátory slúžia na základné matematické výpočty ako sú sčítanie, odčítanie, násobenie, delenie a umocňovanie.\n",
    "\n",
    "Prvým operátorom je `+`, ktorý slúži na sčítavanie a na zlučovanie dvoch postupností:"
   ]
  },
  {
   "cell_type": "code",
   "execution_count": null,
   "metadata": {},
   "outputs": [],
   "source": [
    "3 + 5  # výsledok je 8"
   ]
  },
  {
   "cell_type": "code",
   "execution_count": null,
   "metadata": {},
   "outputs": [],
   "source": [
    "\"abc\" + \"def\"  # výsledok je reťazec \"abcdef\""
   ]
  },
  {
   "cell_type": "code",
   "execution_count": null,
   "metadata": {},
   "outputs": [],
   "source": [
    "[1, 2] + [3, 4]  # výsledok je zoznam [1, 2, 3, 4]"
   ]
  },
  {
   "cell_type": "code",
   "execution_count": null,
   "metadata": {},
   "outputs": [],
   "source": [
    "(1, 2) + (3, 4)  # výsledok je n-tica (1, 2, 3, 4)"
   ]
  },
  {
   "cell_type": "markdown",
   "metadata": {},
   "source": [
    "Na odčítavanie sa používa operátor `-`:"
   ]
  },
  {
   "cell_type": "code",
   "execution_count": null,
   "metadata": {},
   "outputs": [],
   "source": [
    "8 - 5  # výsledok je 3"
   ]
  },
  {
   "cell_type": "markdown",
   "metadata": {},
   "source": [
    "Na násobenie slúži operátor `*`:"
   ]
  },
  {
   "cell_type": "code",
   "execution_count": null,
   "metadata": {},
   "outputs": [],
   "source": [
    "5 * 3  # výsledok je 15"
   ]
  },
  {
   "cell_type": "markdown",
   "metadata": {},
   "source": [
    "V súvislosti s delením Python definuje tri operátory:\n",
    "* `/` - bežné delenie\n",
    "* `//` - celočíselné delenie (delenie so zvyškom)\n",
    "* `%` - modulo (zvyšok po celočíselnom delení)"
   ]
  },
  {
   "cell_type": "code",
   "execution_count": null,
   "metadata": {},
   "outputs": [],
   "source": [
    "15 / 2  # výsledok je 7.5"
   ]
  },
  {
   "cell_type": "code",
   "execution_count": null,
   "metadata": {},
   "outputs": [],
   "source": [
    "15 // 2  # výsledok je 7"
   ]
  },
  {
   "cell_type": "code",
   "execution_count": null,
   "metadata": {},
   "outputs": [],
   "source": [
    "15 % 2  # výsledok je 1"
   ]
  },
  {
   "cell_type": "markdown",
   "metadata": {},
   "source": [
    "Posledným základným aritmetickým operátorom je umocňovací operátor `**`:"
   ]
  },
  {
   "cell_type": "code",
   "execution_count": null,
   "metadata": {},
   "outputs": [],
   "source": [
    "2 ** 4  # výsledok je 16 (dva na štvrtú)"
   ]
  },
  {
   "cell_type": "markdown",
   "metadata": {},
   "source": [
    "### 2.2. Priraďovacie operátory"
   ]
  },
  {
   "cell_type": "markdown",
   "metadata": {},
   "source": [
    "Priraďovacie operátory slúžia na ukladanie hodnoty do premennej a na aktualizáciu hodnoty premennej, pričom definujú skrátený zápis pre niektoré prípady:"
   ]
  },
  {
   "cell_type": "markdown",
   "metadata": {},
   "source": [
    "| operátor | funkcionalita |\n",
    "|----------|---------------|\n",
    "| =        | x = 5         |\n",
    "| +=       | x = x + 5     |\n",
    "| -=       | x = x - 5     |\n",
    "| *=       | x = x * 5     |\n",
    "| /=       | x = x / 5     |\n",
    "| //=      | x = x // 5    |\n",
    "| %=       | x = x % 5     |\n",
    "| **=      | x = x ** 5    |"
   ]
  },
  {
   "cell_type": "markdown",
   "metadata": {},
   "source": [
    "### 2.3. Porovnávacie operátory"
   ]
  },
  {
   "cell_type": "markdown",
   "metadata": {},
   "source": [
    "Pomocou týchto operátorov vieme porovnať dve hodnoty (alebo premenné alebo premennú s hodnotou). Výsledok operácie je `True` alebo `False`:\n",
    "* `==` - rovná sa\n",
    "* `!=` - nerovná sa\n",
    "* `>` - väčšie\n",
    "* `<` - menšie\n",
    "* `>=` - väčšie alebo rovné\n",
    "* `<=` - menšie alebo rovné"
   ]
  },
  {
   "cell_type": "markdown",
   "metadata": {},
   "source": [
    "### 2.4. Logické operátory"
   ]
  },
  {
   "cell_type": "markdown",
   "metadata": {},
   "source": [
    "Logické operátory slúžia na prácu s booleovskými hodnotami. Môžete ich aplikovať aj na čísla a iné hodnoty, pričom 0 sa považuje za `False` a všetky iné hodnoty za `True`:\n",
    "* `and` - a zároveň\n",
    "* `or` - alebo\n",
    "* `not` - nie je (negácia)"
   ]
  },
  {
   "cell_type": "markdown",
   "metadata": {},
   "source": [
    "### 2.5. Operátory príslušnosti"
   ]
  },
  {
   "cell_type": "markdown",
   "metadata": {},
   "source": [
    "Poslednými užitočnými operátormi sú operátory príslušnosti, ktoré určujú, či sa daná hodnota nachádza v postupnosti alebo v množine údajov:"
   ]
  },
  {
   "cell_type": "code",
   "execution_count": null,
   "metadata": {},
   "outputs": [],
   "source": [
    "5 in [1, 2, 3, 4]  # výsledok je False"
   ]
  },
  {
   "cell_type": "code",
   "execution_count": null,
   "metadata": {},
   "outputs": [],
   "source": [
    "5 not in [1, 2, 3, 4]  # výsledok je True"
   ]
  },
  {
   "cell_type": "markdown",
   "metadata": {},
   "source": [
    "## 3. Vetvenie"
   ]
  },
  {
   "cell_type": "markdown",
   "metadata": {},
   "source": [
    "Pomocou premenných a operátorov viete napísať program, v ktorom postupnosť krokov je jasná a priamočiara. Niekedy však potrebujete implementovať funkcionalitu, ktorá závisí od niekoľkých okolností a podmienok. Pre takéto prípady bol vymyslený konštrukt *vetvenie*, ktoré poznáte ako *if*.\n",
    "\n",
    "Ako ste si už možno všimli, Python nepoužíva bodkočiarky na ukončenie príkazov. Je to z toho dôvodu, že v Pythone indentácia, teda odsadenie kódu hrá dôležitú rolu: nový príkaz definujete v novom riadku. Z toho istého dôvodu Python nepoužíva blokové zátvorky (`{}`), ich funkcionalita je nahradená dvojbodkou a odsadením kódu zvyčajne o 4 znaky. Napríklad príkaz `if` v C"
   ]
  },
  {
   "cell_type": "code",
   "execution_count": null,
   "metadata": {},
   "outputs": [],
   "source": [
    "if (number > 10) {\n",
    "    number -= 10;\n",
    "}\n",
    "else if (number > 5) {\n",
    "    number -= 5;\n",
    "}\n",
    "else {\n",
    "    number += 5;\n",
    "}"
   ]
  },
  {
   "cell_type": "markdown",
   "metadata": {},
   "source": [
    "by v Pythone vyzeral takto:"
   ]
  },
  {
   "cell_type": "code",
   "execution_count": null,
   "metadata": {},
   "outputs": [],
   "source": [
    "if number > 10:\n",
    "    number -= 10\n",
    "elif number > 5:\n",
    "    number -= 5\n",
    "else:\n",
    "    number += 5"
   ]
  },
  {
   "cell_type": "markdown",
   "metadata": {},
   "source": [
    "Takisto si môžete všimnúť, že v Pythone nemusíte podmienky uviesť v zátvorkách (ak to nevyžaduje samotný výpočet) a že pre kľúčové slovo `else if` je definovaný zápis `elif`.\n",
    "\n",
    "V jazyku C viacnásobné vetvenia môžete riešiť pomocou `switch`, ktorý ale v Pythone nie je definovaný a preto vždy musíte používať príkazy `if`, `else` a `elif`."
   ]
  },
  {
   "cell_type": "markdown",
   "metadata": {},
   "source": [
    "## 4. Cykly"
   ]
  },
  {
   "cell_type": "markdown",
   "metadata": {},
   "source": [
    "Cykly slúžia na viacnásobné vykonanie toho istého bloku kódu. Definujeme dve kategórie cyklov, pričom v C sú implementované tri cykly:\n",
    "1. aritmetický cyklus (`for`)\n",
    "2. logický cyklus (`while` a `do ... while`)"
   ]
  },
  {
   "cell_type": "markdown",
   "metadata": {},
   "source": [
    "Python definuje iba dva cykly, `for ... in` a `while`, pričom `for ... in` sa značne líši od `for` cyklu C. Pre naše účely však stačí ak zatiaľ budete vedieť ako sa zapisujú najčastejšie for cykly v Pythone:"
   ]
  },
  {
   "cell_type": "code",
   "execution_count": null,
   "metadata": {},
   "outputs": [],
   "source": [
    "# for (int i = 0; i < 10; i++) {\n",
    "#     printf(\"%d\", i);\n",
    "# }\n",
    "for i in range(0, 10):\n",
    "    print(i)"
   ]
  },
  {
   "cell_type": "markdown",
   "metadata": {},
   "source": [
    "`range` je metóda, ktorá vygeneruje postupnosť čísel, pričom druhá hodnota v postupnosti už nebude (pre podrobný popis viď [dokumentáciu](https://docs.python.org/3/library/stdtypes.html#range))."
   ]
  },
  {
   "cell_type": "markdown",
   "metadata": {},
   "source": [
    "Cyklus `while` funguje v Pythone podobne ako v C, napríklad vyšší cyklus by sme mohli implementovať nasledovne:"
   ]
  },
  {
   "cell_type": "code",
   "execution_count": null,
   "metadata": {},
   "outputs": [],
   "source": [
    "i = 0\n",
    "while i < 10:\n",
    "    print(i)\n",
    "    i += 1"
   ]
  },
  {
   "cell_type": "markdown",
   "metadata": {},
   "source": [
    "## 5. Funkcie"
   ]
  },
  {
   "cell_type": "markdown",
   "metadata": {},
   "source": [
    "Predchádzajúce jazykové konštrukty vám postačia na to, aby ste napísali program, v ktorom príkazy sa vykonávajú riadok po riadku. Ak však potrebujete niektorý blok vykonať viackrát, resp. vykonávať rôzne bloky kódu v rôznom poradí, potrebujete mať schopnosť zadefinovať funkcie, ktoré sú ucelené bloky kódu, ktoré sa vykonajú nezávisle od behu hlavného programu.\n",
    "\n",
    "V Pythone pre definíciu funkcie slúži kľúčové slovo `def` a syntax funkcie je podobná ako syntax vetvení a cyklov. Napríklad funkcia, ktorá určí, či číslo je párne môže vyzerať takto:"
   ]
  },
  {
   "cell_type": "code",
   "execution_count": null,
   "metadata": {},
   "outputs": [],
   "source": [
    "def isEven(number):\n",
    "    if number % 2 == 0:\n",
    "        return True\n",
    "    else:\n",
    "        return False"
   ]
  },
  {
   "cell_type": "markdown",
   "metadata": {},
   "source": [
    "V takejto definícii po kľúčovom slovíčku `def` nasleduje názov funkcie, zoznam parametrov v zátvorkách a následne telo funkcie s odsadením. Na určenie návratovej hodnoty slúži podobne ako v C slovo `return`. Ak nezadefinujete návratovú hodnotu, funkcia bude mať návratovú hodnotu `None`."
   ]
  },
  {
   "cell_type": "markdown",
   "metadata": {},
   "source": [
    "## 6. Cvičenie - prvé programy v Pythone"
   ]
  },
  {
   "cell_type": "markdown",
   "metadata": {},
   "source": [
    "Aby ste si precvičili syntax jazyku Python a programovanie vo vybranom programovacom prostredí, implementujte niekoľko jednoduchých programov."
   ]
  },
  {
   "cell_type": "markdown",
   "metadata": {},
   "source": [
    "### 6.1. Hľadanie prvočísel\n",
    "\n",
    "Implementujte funkciu `isPrime`, ktorá zistí, či číslo na vstupe je prvočíslo alebo nie. Funkcia má jeden parameter (celé číslo) a vráti hodnotu `True` ak dané číslo je prvočíslo, `False` v opačnom prípade. Za prvočíslo považujeme celé čísla väčšie ako 1, ktoré sú deliteľné iba 1 a samou sebou."
   ]
  },
  {
   "cell_type": "markdown",
   "metadata": {},
   "source": [
    "### 6.2. Súčet násobkov\n",
    "\n",
    "Vypočítajte súčet všetkých násobkov čísla 3 alebo 5 od 1 po 1000."
   ]
  },
  {
   "cell_type": "markdown",
   "metadata": {},
   "source": [
    "### 6.3. Fibonacciho čísla\n",
    "\n",
    "Fibonacciho čísla reprezentujú postupnosť celých čísel v ktorej každý prvok je súčtom dvoch predchádzajúcich prvkov. Napríklad ak prvé dva prvky sú 1 a 2, tretí prvok bude 3, štvrtý bude 5 (3 + 2), atď. Vytvorte funkciu, ktorá vypíše prvých *n* prvkov postupnosti (*n* je celé číslo - parameter funkcie). Pre výpis použite funkciu `print`."
   ]
  }
 ],
 "metadata": {
  "kernelspec": {
   "display_name": "Python 3",
   "language": "python",
   "name": "python3"
  },
  "language_info": {
   "codemirror_mode": {
    "name": "ipython",
    "version": 3
   },
   "file_extension": ".py",
   "mimetype": "text/x-python",
   "name": "python",
   "nbconvert_exporter": "python",
   "pygments_lexer": "ipython3",
   "version": "3.7.4"
  }
 },
 "nbformat": 4,
 "nbformat_minor": 2
}
