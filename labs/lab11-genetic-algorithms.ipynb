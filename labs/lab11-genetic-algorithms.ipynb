{
 "cells": [
  {
   "cell_type": "markdown",
   "metadata": {},
   "source": [
    "# Cvičenie 11: Evolučné algoritmy\n",
    "\n",
    "Evolučné algoritmy sú optimalizačné algoritmy inšpirované prírodou. Kým väčšina optimalizačných algoritmov používa priamočiary proces optimalizácie (zvyčajne založený na derivácii), evolučné algoritmy napodobňujú prirodzený proces evolúcie, v ktorom prežijú najlepší jedinci. Pri použití evolučných algoritmov hrá dôležitú rolu aj náhodnosť, vďaka čomu evolučné algoritmy nájdu globálny extrém a nezastavia vyhľadávanie v lokálnych extrémnych bodov.\n",
    "\n",
    "Samotný proces optimalizácie pomocou evolučných algoritmov je iteratívna a skladá sa z nasledujúcich krokov:\n",
    "1. vytvorenie prvej generácie - náhodná inicializácia jedincov\n",
    "2. vyhodnotenie jedincov - pre optimalizáciu sa stanoví kriteriálna funkcia, ktorá určuje vhodnosť riešení, ktoré sú vyjadrené jedincami\n",
    "3. výber najlepších jedincov - jedincov, ktorí majú najvyššiu vhodnosť\n",
    "4. párovanie jedincov - rôzne spôsoby, tieto dvojice slúžia ako rodičia jedincov novej generácie\n",
    "5. reprodukcia - vytvorenie nových jedincov z rodičov\n",
    "6. mutácia - náhodná mutácia jedincov, čo výrazne môže zmeniť riešenie, ktoré reprezentujú\n",
    "7. vytvorenie novej generácie - do novej generácie sa dostanú najlepší jedinci z predošlej a vytvorení potomkovia\n",
    "8. opakuj od bodu 2 až kým nenájdeš optimálne riešenie (riešenie, ktoré spĺňa kriteriálnu funkciu)\n",
    "\n",
    "![Všeobecný algoritmus evolúcie](figures/lab11/11.1-ga-general.png)\n",
    "\n",
    "Na dnešnom cvičení si vysvetlíme tieto kroky na jednoduchom príklade. Následne svoje poznatky viete aplikovať aj na konkrétnejšie a rozsiahlejšie úlohy. V našom príklade bude každý jedinec reprezentovaný ako zoznam 20 hodnôt (0 alebo 1). Na začiatku náhodne nainicializujeme týchto jedincov a naším cieľom bude dopracovať sa k jedincom, v ktorých suma čísel presahuje 19.\n",
    "\n",
    "Kostru riešenie si môžete stiahnuť [tu](codes/lab11-genetic-algorithms.py)."
   ]
  },
  {
   "cell_type": "markdown",
   "metadata": {},
   "source": [
    "## Krok 1: Inicializácia parametrov\n",
    "\n",
    "Ako všetky metódy umelej inteligencie, aj evolučné algoritmy majú svoje parametre, ktoré presnejšie definujú proces priebehu algoritmov. Pri evolučných algoritmoch potrebujeme špecifikovať nasledujúce základné parametre:\n",
    "\n",
    "* veľkosť populácie - koľko jedincov budeme mať v každej generácii\n",
    "* veľkosť jedinca - z koľkých hodnôt sa skladá jedinec (tieto hodnoty môžu byť binárne alebo spojité)\n",
    "* pravdepodobnosť mutácie - určuje pravdepodobnosť, s ktorou sa mení hodnota na niektorej pozícii pre jedinca\n",
    "* kriteriálna funkcia - určuje spôsob vyhodnotenia jedincov\n",
    "* spôsob párovania - ako sa vyberú dvojice rodičov pred vytvorením potomkov\n",
    "* spôsob náhrady - ako sa vytvorí nová generácia.\n",
    "\n",
    "Posledné tri body budeme definovať až pri vytvorení príslušných funkcií, na začiatku nášho skriptu teda zadefinujeme iba ostatné parametre:"
   ]
  },
  {
   "cell_type": "code",
   "execution_count": 1,
   "metadata": {},
   "outputs": [],
   "source": [
    "import random\n",
    "\n",
    "\n",
    "POPULATION_SIZE = 10\n",
    "INDIVIDUAL_LENGTH = 20\n",
    "MUTATION_CHANCE = 0.1\n",
    "\n",
    "TARGET_VALUE = 19"
   ]
  },
  {
   "cell_type": "markdown",
   "metadata": {},
   "source": [
    "Premenná `TARGET_VALUE` určuje požadovanú sumu hodnôt (génov) jedinca. Okrem zadefinovania premenných sme takisto importovali aj knižnicu `random`, ktorú využijeme pre generovanie náhodných čísel pri inicializácii generácie a pri mutácie."
   ]
  },
  {
   "cell_type": "markdown",
   "metadata": {},
   "source": [
    "## Krok 2: Inicializácia prvej generácie\n",
    "\n",
    "Ďalšou úlohou je vytvoriť prvú generáciu, pričom potrebujeme vygenerovať určený počet jedincov a každý jedinec sa skladá z požadovaného počtu génov. Každý gén nadobudne hodnotu 0 alebo 1 (vyberie sa náhodne pri generovaní):"
   ]
  },
  {
   "cell_type": "code",
   "execution_count": null,
   "metadata": {},
   "outputs": [],
   "source": [
    "def generate_starting_generation():\n",
    "    generation = []\n",
    "    # TODO initialize first generation\n",
    "    return generation"
   ]
  },
  {
   "cell_type": "markdown",
   "metadata": {},
   "source": [
    "## Krok 3: Kriteriálna funkcia a vyhodnocovanie\n",
    "\n",
    "V ďalšom kroku vytvoríme kriteriálnu funkciu, ktorá nám vráti sumu hodnôt (génov) jedinca:"
   ]
  },
  {
   "cell_type": "code",
   "execution_count": null,
   "metadata": {},
   "outputs": [],
   "source": [
    "def fitness(individual):\n",
    "    # TODO: return sum of values in individual\n",
    "    return 0"
   ]
  },
  {
   "cell_type": "markdown",
   "metadata": {},
   "source": [
    "Na vyhodnocovanie slúži už implementovaná metóda `rank_generation`, ktorá zoradí zoznam jedincov podľa ich vhodnosti od najlepšieho po najhorší a vráti nový zoznam:"
   ]
  },
  {
   "cell_type": "code",
   "execution_count": null,
   "metadata": {},
   "outputs": [],
   "source": [
    "def rank_generation(generation):\n",
    "    return sorted(generation, key=lambda ind: fitness(ind), reverse=True)"
   ]
  },
  {
   "cell_type": "markdown",
   "metadata": {},
   "source": [
    "## Krok 4: Párovanie\n",
    "\n",
    "Pomocou kriteriálnej funkcie vieme zoradiť jedincov z ľubovoľnej generácie na základe ich vhodnosti. Potom našou úlohou je vytvoriť rôzne dvojice, ktoré slúžia ako páry rodičov pre jedincov z ďalšej generácie. Na vytvorenie takýchto dvojíc existuje niekoľko metód, najpopulárnejšie sú nasledovné:\n",
    "\n",
    "* párovanie podľa vhodnosti - v tejto metóde sa vytvoria páry najlepšieho s druhým najlepším, tretieho najlepšieho so štvrtým najlepším, atď.\n",
    "* náhodné párovanie - rodičia sú spárovaní úplne náhodne\n",
    "* vážené párovanie - výber je náhodný, avšak ako váha sa použije vhodnosť jedincov, tým pádom lepší jedinci majú vyššiu šancu na výber.\n",
    "\n",
    "V našom riešení použijeme najjednoduchšie párovanie podľa vhodnosti, teda zo zoradeného zoznamu jedincov vytvoríme dvojice podľa ich umiestnenia v zozname (1. s 2., 3. s 4., atď.)."
   ]
  },
  {
   "cell_type": "code",
   "execution_count": null,
   "metadata": {},
   "outputs": [],
   "source": [
    " def pair(generation):\n",
    "    # TODO: return a list of couples, the input is an already sorted list\n",
    "    return []"
   ]
  },
  {
   "cell_type": "markdown",
   "metadata": {},
   "source": [
    "## Krok 5: Reprodukcia\n",
    "\n",
    "Ďalším krokom je reprodukcia, teda vytvorenie nových jedincov - potomkov. Vo väčšine implementácií sa definuje spolu s párovaním, my ale zadefinujeme samostatnú funkciu, ktorá ako parameter dostane prvého a druhého rodiča. Ako pri párovaní, aj tu existuje niekoľko metód (genetických operátorov) pre vytvorenie potomka, najčastejšie používané sú:\n",
    "\n",
    "* jednobodové kríženie - gény oboch rodičov sú rozdelené na dve časti v rovnakom bode a potomok sa vytvorí z prvej časti prvého rodiča a z druhej časti druhého rodiča (môžu byť vytvorení dvaja potomkovia)\n",
    "* mnohobodové kríženie - gény sú rozsekané vo viacerých bodoch, vytvorí sa niekoľko potomkov\n",
    "* uniformné kríženie - maska určí, či gén na danej pozícii je prekopírovaný od prvého alebo od druhého rodiča.\n",
    "\n",
    "V našom riešení použijeme jednobodové kríženie a vytvoríme iba jedného jedinca (pre jednoduchosť):"
   ]
  },
  {
   "cell_type": "code",
   "execution_count": null,
   "metadata": {},
   "outputs": [],
   "source": [
    "def mate(individual1, individual2):\n",
    "    # TODO: return child\n",
    "    # first half is copied from parent1 the rest from parent2\n",
    "    return []"
   ]
  },
  {
   "cell_type": "markdown",
   "metadata": {},
   "source": [
    "## Krok 6: Mutácia\n",
    "\n",
    "Mutácia je dodatočný krok pred vytvorením novej generácie a môže byť aplikovaná iba na potomkov alebo aj na rodičov. Pri binárnych génoch je mutácia jednoznačná: 0 nahradíme hodnotou 1, 1 zase hodnotou 0. Mutáciu implementujeme nasledovne: pre každý gén jedinca zmeníme hodnotu na opačnú s pravdepodobnosťou mutácie (premenná `MUTATION_CHANCE`):"
   ]
  },
  {
   "cell_type": "code",
   "execution_count": null,
   "metadata": {},
   "outputs": [],
   "source": [
    "def mutate(individual):\n",
    "    # TODO: mutate genes at each position with MUTATION_CHANCE probability\n",
    "    pass"
   ]
  },
  {
   "cell_type": "markdown",
   "metadata": {},
   "source": [
    "## Krok 7: Generovanie novej generácie\n",
    "\n",
    "V ďalšom kroku môžeme vygenerovať novú generáciu použitím už existujúcich funkcií. V našom príklade novú generáciu vytvoríme nasledovne:\n",
    "\n",
    "1. zoradíme jedincov podľa ich vhodnosti\n",
    "2. ponecháme 5 najlepších jedincov (prvú polovicu)\n",
    "3. vytvoríme páry rodičov\n",
    "4. vygenerujeme potomkov (bude ich dvakrát menej ako veľkosť populácie)\n",
    "5. aplikujeme mutáciu na najlepších jedincov a potomkov\n",
    "6. vrátime zoznam s najlepšími jedincami a potomkami (jedinci v ďalšej generácii)"
   ]
  },
  {
   "cell_type": "code",
   "execution_count": null,
   "metadata": {},
   "outputs": [],
   "source": [
    "def generate_new_generation(generation):\n",
    "    # TODO: generate new generation like so\n",
    "    # keep the first half of the current population (the best individuals)\n",
    "    # generate new children using pairing and mating\n",
    "    return []"
   ]
  },
  {
   "cell_type": "markdown",
   "metadata": {},
   "source": [
    "## Krok 8: Testovanie\n",
    "\n",
    "Ak ste implementovali všetky funkcie, vaše riešenie môžete otestovať pomocou funkcie `main`:"
   ]
  },
  {
   "cell_type": "code",
   "execution_count": null,
   "metadata": {},
   "outputs": [],
   "source": [
    "if __name__ == '__main__':\n",
    "    counter = 1\n",
    "    current = generate_starting_generation()\n",
    "    while fitness(rank_generation(current)[0]) < TARGET_VALUE:\n",
    "        print(\"GENERATION\", counter)\n",
    "        print('best fitness:', fitness(rank_generation(current)[0]))\n",
    "        print()\n",
    "        current = generate_new_generation(current)\n",
    "        counter += 1\n",
    "\n",
    "    print(current)\n",
    "    for individual in current:\n",
    "        print(fitness(individual))"
   ]
  },
  {
   "cell_type": "markdown",
   "metadata": {},
   "source": [
    "Ak sa vám zapáčili evolučné algoritmy, môžete ich využiť napríklad [pri vytvorení samojazdiacich aút](https://www.youtube.com/watch?v=Qv7dhms5dDQ). Ďalšie informácie o evolučných algoritmoch nájdete [v tejto učebnici](http://www2.fiit.stuba.sk/~kvasnicka/Free%20books/Mach_Evolucne%20algoritmy_kniha.pdf)."
   ]
  },
  {
   "cell_type": "markdown",
   "metadata": {},
   "source": [
    "**Poznámka**: ukážkové riešenie nájdete [tu](solutions/lab11_solution.py)."
   ]
  }
 ],
 "metadata": {
  "kernelspec": {
   "display_name": "Python 3",
   "language": "python",
   "name": "python3"
  },
  "language_info": {
   "codemirror_mode": {
    "name": "ipython",
    "version": 3
   },
   "file_extension": ".py",
   "mimetype": "text/x-python",
   "name": "python",
   "nbconvert_exporter": "python",
   "pygments_lexer": "ipython3",
   "version": "3.7.3"
  }
 },
 "nbformat": 4,
 "nbformat_minor": 2
}
