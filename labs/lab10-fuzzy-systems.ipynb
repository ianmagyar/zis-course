{
 "cells": [
  {
   "cell_type": "markdown",
   "metadata": {},
   "source": [
    "# Cvičenie 10: Fuzzy systémy"
   ]
  },
  {
   "cell_type": "markdown",
   "metadata": {},
   "source": [
    "Fuzzy logika je metodológia, ktorá vychádza z predpokladu, že tvrdenia nemusia byť iba úplne pravdivé alebo nepravdivé, ale ich pravdivosť je možné vyjadriť na škále. Fuzzy logika teda nepracuje s bežnými premennými, používa ale fuzzy premenné, ktoré majú definované univerzum (všetky mozné hodnoty alebo rozptyl) a aktuálno hodnotu. Ak rozptyl je nulový, fuzzy premenná sa stane obyčajným premenným s reálnou hodnotou.\n",
    "\n",
    "Fuzzy premenná môže byť takisto vyjadrená výrazom, ktorý je zvyčajne ľudský koncept (prídavné meno alebo príslovka). Takéto výrazy vieme sformalizovať vďaka fuzzy množinám, ktoré reálnym hodnotám prideľujú aj mieru príslušnosti. Napríklad, ak máme fuzzy premennú, ktorá vyjadruje **rýchlosť vozidla**, táto premenná môže byť vyjadrená výrazom **rýchle vozidlo**, kde skutočná rýchlosť 200 km/h môže mať príslušnosť 1.0 (\"úplne rýchle vozidlo\") a skutočná hodnota 80 km/h príslušnosť 0.1 (\"ledva rýchle vozidlo\").\n",
    "\n",
    "Pomocou fuzzy logiky vieme teda vytvoriť fuzzy riadiaci systém, ktorý ovláda ľudské koncepty akosti a miery. Ako každý riadiaci systém, aj fuzzy systémy obsahujú **pravidlá**, ktoré majú tvar *IF podmienka THEN dôsledok* podobne ako v experných systémoch. Jediný rozdiel je, že podmienky aj dôsledky obsahujú fuzzy premenné.\n",
    "\n",
    "Inferenciu vo fuzzy systémoch vieme rozdeliť na tri kroky:\n",
    "1. fuzzifikácia - vstupné reálne hodnoty premeníme na fuzzy hodnoty\n",
    "2. inferencia na základe tabuľky pravidiel - samotný regulačný algoritmus, funguje obdobne ako pri expertných systémoch\n",
    "3. defuzzifikácia - inferencia nám dáva výsledok ako fuzzy premennú, jej hodnotu prevedieme na reálne číslo alebo na očakávaný tvar"
   ]
  },
  {
   "cell_type": "markdown",
   "metadata": {},
   "source": [
    "## Úloha 1: Definícia fuzzy systému v Pythone"
   ]
  },
  {
   "cell_type": "markdown",
   "metadata": {},
   "source": [
    "Ako aj pre ostatné štandardné metódy umelej inteligencie, aj pre fuzzy systémy existujú knižnice, ktoré implementujú základnú logiku takýchto systémov. Našou úlohou tým pádom je iba samotná definícia pravidiel a následné zadanie vstupných hodnôt do výpočtov, nemusíme sa starať o implementáciu riadiacej logiky. Na dnešnom cvičení použijeme knižnicu `scikit-fuzzy`, ktorá ale nie je súčasťou inštalácie Pythonu alebo Anacondy, potrebujeme ju doinštalovať pomocou príkazu v príkazovom riadku alebo v Anaconda Prompt\n",
    "\n",
    "```pip install scikit-fuzzy```\n",
    "\n",
    "alebo\n",
    "\n",
    "```conda install scikit-fuzzy```.\n",
    "\n",
    "Ak používate grafické IDE na programovanie, napr. PyCharm alebo Visual Studio Code, tieto zvyčajne majú grafické rozhranie aj pre inštaláciu knižníc.\n",
    "\n",
    "Úspešnosť inštalácie otestujete v príkazovom riadku zadaním príkazu `pip list` - zobrazí sa vám zoznam všetkých inštalovaných knižníc, medzi nimi aj `scikit-fuzzy`. Alternatívne môžete spustiť skript, v ktorom naimportujete knižnicu príkazom `import skfuzzy`."
   ]
  },
  {
   "cell_type": "markdown",
   "metadata": {},
   "source": [
    "### 1.1 Import potrebných knižníc\n",
    "\n",
    "Okrem knižnice `scikit-fuzzy` potrebujeme ešte aj ďalšie knižnice, ktoré naimportujeme na začiatku nášho skriptu."
   ]
  },
  {
   "cell_type": "code",
   "execution_count": null,
   "metadata": {},
   "outputs": [],
   "source": [
    "import matplotlib.pyplot as plt\n",
    "import numpy as np\n",
    "import skfuzzy as fuzz\n",
    "from skfuzzy import control as ctrl"
   ]
  },
  {
   "cell_type": "markdown",
   "metadata": {},
   "source": [
    "Ak sa vám nepodarý importovať niektorú knižnicu, pretože chýba, viete ju doinštalovať pomocou príkazu `pip`. Knižnicu `matplotlib` použijeme na vizualizáciu niektorých častí nášho systému, `numpy` je šikovná knižnica, ktorá nám poskytuje C-čkovú implementáciu polí v Pythone (použijeme ju pri definícii fuzzy množín)."
   ]
  },
  {
   "cell_type": "markdown",
   "metadata": {},
   "source": [
    "### 1.2 Definícia premenných\n",
    "\n",
    "Ak chceme vytvoriť fuzzy systém, prvým krokom musí byť definícia pravidiel, ktoré takisto potrebujeme rozdeliť na predpoklady a dôsledky, ku ktorým potrebujeme nevyhnutne aj fuzzy premenné. Na dnešnom cvičení vytvoríme veľmi jednoduchý fuzzy systém s tromi pravidlami. Tento systém vám má pomôcť pri hodnotení predmetov pri koncoročnom dotazníku na MAISe. Predpokladáme, že hodnotenie predmetu závisí iba od vašej spokojnosti s prednáškami a s cvičeniami.\n",
    "\n",
    "Zadefinujeme teda nasledovné premenné:\n",
    "\n",
    "* vstupy\n",
    "  * kvalita cvičení\n",
    "    * univerzum - hodnoty od 0 po 10\n",
    "    * fuzzy hodnoty - slabá, priemerná, dobrá\n",
    "  * kvalita prednášok\n",
    "    * univerzum - hodnoty od 0 po 10\n",
    "    * fuzzy hodnoty - slabá, priemerná, dobrá\n",
    "* výstupy\n",
    "  * hodnotenie predmetu\n",
    "    * univerzum - hodnoty od 0 po 10\n",
    "    * fuzzy hodnoty - nízke, priemerné, vysoké\n",
    "\n",
    "Platí, že vstupné premenné patria medzi predpoklady (definujú ich), kým výstupné premenné použijeme pre dôsledky."
   ]
  },
  {
   "cell_type": "markdown",
   "metadata": {},
   "source": [
    "#### 1.2.1 Definícia predpokladov\n",
    "\n",
    "Predpoklady (po anglicky *antecedent*) definujeme pomocou triedy `Antecedent` z modulu `skfuzzy.control` a to tak, že definujeme univerzum (ako `numpy` pole) a zadáme label pre ďalšie použitie premennej (hodnoty sa priradzujú na základe labelu). Podrobnejšie informácie nájdete [v dokumentácii](https://pythonhosted.org/scikit-fuzzy/api/skfuzzy.control.html#antecedent).\n",
    "\n",
    "Najprv zadefinujeme premennú pre vyjadrenie kvality cvičení:"
   ]
  },
  {
   "cell_type": "code",
   "execution_count": null,
   "metadata": {},
   "outputs": [],
   "source": [
    "labs_quality = ctrl.Antecedent(np.arange(0, 11, 1), 'labs')"
   ]
  },
  {
   "cell_type": "markdown",
   "metadata": {},
   "source": [
    "Funkcia `numpy.arange` nám vygeneruje interval od 0 po 10 (11 už neberie, podobne ako slicing v čistom Pythone) s krokom 1. Následne definujeme label pre premennú.\n",
    "\n",
    "Predpoklad je síce už pripravený, ale potrebujeme ešte zadefinovať fuzzy hodnoty, resp. fuzzy množiny. Tieto vieme urobiť manuálne, alebo môžeme ich vygenerovať automaticky. Pre predpoklady využijeme práve možnosť automatického generovania, na čo slúži metóda `automf` (*automatic membership function*). Ako parameter uvedieme počet kategórií (môže nadobudnúť hodnoty 3, 5 alebo 7 - ak chcete iný počet, musíte zadať aj zoznam labelov jednotlivých hodnôt)."
   ]
  },
  {
   "cell_type": "code",
   "execution_count": null,
   "metadata": {},
   "outputs": [],
   "source": [
    "labs_quality.automf(3)"
   ]
  },
  {
   "cell_type": "markdown",
   "metadata": {},
   "source": [
    "Následne vieme vizualizovať fuzzy hodnoty tejto premennej a to pomocou metódy `view`. Na vykresľovanie sa použije knižnica `matplotlib`, z ktorej zavoláme metódu `show` aby graf bol zobrazený na dlhší čas."
   ]
  },
  {
   "cell_type": "code",
   "execution_count": null,
   "metadata": {},
   "outputs": [],
   "source": [
    "labs_quality.view()\n",
    "plt.show()"
   ]
  },
  {
   "cell_type": "markdown",
   "metadata": {},
   "source": [
    "Kód nám vykreslí nasledujúci graf:\n",
    "\n",
    "![Lab quality variable](figures/lab10/10.1-lab-quality-variable.png)"
   ]
  },
  {
   "cell_type": "markdown",
   "metadata": {},
   "source": [
    "Premennú pre kvalitu prednášok zadefinujeme podobne:"
   ]
  },
  {
   "cell_type": "code",
   "execution_count": null,
   "metadata": {},
   "outputs": [],
   "source": [
    "lecture_quality = ctrl.Antecedent(np.arange(0, 11, 1), 'lectures')\n",
    "lecture_quality.automf(3)"
   ]
  },
  {
   "cell_type": "markdown",
   "metadata": {},
   "source": [
    "#### 1.2.2 Definícia dôsledku\n",
    "\n",
    "V dôsledku použijeme iba jednu premennú, a tá vyjadruje hodnotenie predmetu. Základná definícia je podobná ako v prípade vstupných premenných, avšak použijeme triedu `Consequent` ([viď dokumentácia](https://pythonhosted.org/scikit-fuzzy/api/skfuzzy.control.html#consequent)). Fuzzy hodnoty teraz zadefinujeme manuálne. Knižnica definuje niekoľko funkcií príslušnosti ([viď dokumentácia](https://pythonhosted.org/scikit-fuzzy/api/skfuzzy.html)), my ale použijeme základnú trojuholníkovú. V štandardnej fuzzy logike sa použije Gaussova funkcia, ktorú ale veľmi dobre vieme nahradiť trojuholníkovou funkciou, ktorá navyše lepšie podporuje základné matematické operácie."
   ]
  },
  {
   "cell_type": "code",
   "execution_count": null,
   "metadata": {},
   "outputs": [],
   "source": [
    "rating = ctrl.Consequent(np.arange(0, 11, 1), 'rating')"
   ]
  },
  {
   "cell_type": "markdown",
   "metadata": {},
   "source": [
    "Následne zadefinujeme fuzzy hodnoty *nízke*, *priemerné* a *vysoké* podobne ako v prípade vstupných premenných:"
   ]
  },
  {
   "cell_type": "code",
   "execution_count": null,
   "metadata": {},
   "outputs": [],
   "source": [
    "rating['low'] = fuzz.trimf(rating.universe, [0, 0, 5])\n",
    "rating['medium'] = fuzz.trimf(rating.universe, [0, 5, 10])\n",
    "rating['high'] = fuzz.trimf(rating.universe, [5, 10, 10])"
   ]
  },
  {
   "cell_type": "markdown",
   "metadata": {},
   "source": [
    "Metóda [`trimf`](https://pythonhosted.org/scikit-fuzzy/api/skfuzzy.html#skfuzzy.trimf) (*triangular membership function*) zadefinuje trojuholníkovú funkciu príslušnosti, pre ktorú musíme určiť množinu všetkých hodnôt, teda univerzum príslušnej premennej a následne odovzdávame aj zoznam s tromi hodnotami [a, b, c]: najnižšia hodnota, hodnota s najvyššou mierou príslušnosti, najvyššia hodnota, pričom platí *a <= b <= c*.\n",
    "\n",
    "Po vizualizácii dostaneme graf podobný ako pri vstupnej premennej, ale s nami definovanými labelmi:\n",
    "\n",
    "![Rating variable](figures/lab10/10.2-rating-variable.png)"
   ]
  },
  {
   "cell_type": "markdown",
   "metadata": {},
   "source": [
    "### 1.3 Definícia pravidiel\n",
    "\n",
    "Pre náš fuzzy systém zadefinujeme tri pravidlá, ktoré nám budú určovať hodnotu výstupnej premennej, teda dôsledok:\n",
    "\n",
    "1. AK kvalita cvičení je slabá ALEBO kvalita prednášok je slabá POTOM hodnotenie predmetu je nízke\n",
    "2. AK kvalita cvičení je priemerná POTOM hodnotenie predmetu je priemerné\n",
    "3. Ak kvalita cvičení je dobrá A kvalita prednášok je dobrá POTOM hodnotenie predmetu je vysoké\n",
    "\n",
    "Všimnite si, že v týchto pravidlách pracujeme s fuzzy hodnotami, nikde nefigurujú reálne čísla, tie použijeme až pri riešení konkrétneho príkladu."
   ]
  },
  {
   "cell_type": "markdown",
   "metadata": {},
   "source": [
    "Pravidlá zadefinujeme pomocou triedy `Rule` z modulu `skfuzzy.control` ([viď dokumentácia](https://pythonhosted.org/scikit-fuzzy/api/skfuzzy.control.html#rule)). Každé pravidlo musí mať určený predpoklad a dôsledok, pričom vieme spojiť viaceré predpoklady alebo dôsledky pomocou štandardných operácií A ZÁROVEŇ (`&`), ALEBO (`|`) a NEGÁCIA (`~`). Aj k pravidlám vieme priradiť label, ale nie je to nevyhnutné.\n",
    "\n",
    "Samotné pravidlá zadefinujeme nasledovne:"
   ]
  },
  {
   "cell_type": "code",
   "execution_count": null,
   "metadata": {},
   "outputs": [],
   "source": [
    "rule1 = ctrl.Rule(\n",
    "    labs_quality['poor'] | lecture_quality['poor'],\n",
    "    rating['low'])"
   ]
  },
  {
   "cell_type": "code",
   "execution_count": null,
   "metadata": {},
   "outputs": [],
   "source": [
    "rule2 = ctrl.Rule(\n",
    "    labs_quality['average'],\n",
    "    rating['medium'])"
   ]
  },
  {
   "cell_type": "code",
   "execution_count": null,
   "metadata": {},
   "outputs": [],
   "source": [
    "rule3 = ctrl.Rule(\n",
    "    lecture_quality['good'] & labs_quality['good'],\n",
    "    rating['high'])"
   ]
  },
  {
   "cell_type": "markdown",
   "metadata": {},
   "source": [
    "### 1.4 Definícia fuzzy systému\n",
    "\n",
    "Ak máme pripravené všetky premenné a pravidlá, vieme zadefinovať celý inferenčný systém pomocou triedy `ControlSystem` z modulu `skfuzzy.control` ([pozri dokumentáciu](https://pythonhosted.org/scikit-fuzzy/api/skfuzzy.control.html#controlsystem)). Trieda má iba jeden parameter, a to zoznam všetkých pravidiel.\n",
    "\n",
    "Keďže náš systém funguje na základe troch vyššie definovaných pravidiel, vytvoríme ho nasledovne:"
   ]
  },
  {
   "cell_type": "code",
   "execution_count": null,
   "metadata": {},
   "outputs": [],
   "source": [
    "rating_ctrl = ctrl.ControlSystem([rule1, rule2, rule3])"
   ]
  },
  {
   "cell_type": "markdown",
   "metadata": {},
   "source": [
    "### 1.5 Testovanie a použitie fuzzy systému\n",
    "\n",
    "Ak systém je pripravený, na jeho použitie potrebujeme vytvoriť simulácie, t.j. inštancie všeobecného riešiteľa - samotného systému. V našom prípade by sme vytvorili osobitné simulácie pre hodnotenie rôznych predmetov.\n",
    "\n",
    "Simuláciu vytvoríme pomocou triedy `ControlSystemSimulation` z modulu `skfuzzy.control` ([viď dokumentácia](https://pythonhosted.org/scikit-fuzzy/api/skfuzzy.control.html#controlsystemsimulation)). Pre vytvorenie simulácie potrebujeme určiť fuzzy inferenčný systém (konštruktor má aj ďalšie parametre, tie ale nie sú povinné):"
   ]
  },
  {
   "cell_type": "code",
   "execution_count": null,
   "metadata": {},
   "outputs": [],
   "source": [
    "my_rating = ctrl.ControlSystemSimulation(rating_ctrl)"
   ]
  },
  {
   "cell_type": "markdown",
   "metadata": {},
   "source": [
    "Nezostáva nám nič iné ako zadefinovať hodnoty vstupných premenných ako reálne čísla:"
   ]
  },
  {
   "cell_type": "code",
   "execution_count": null,
   "metadata": {},
   "outputs": [],
   "source": [
    "my_rating.input['labs'] = 6.5\n",
    "my_rating.input['lectures'] = 9.8"
   ]
  },
  {
   "cell_type": "markdown",
   "metadata": {},
   "source": [
    "V tomto prípade cvičenia sa nám zdajú byť iba trošku lepšie ako priemer, kým s prednáškami sme skoro úplne spokojní. Vidíme, že na základe týchto dvoch čísel by sme ťažko vyjadrili našu spokojnosť s celým predmetom, urobili by sme tak intuitívne. Ale práve vďaka fuzzy logike a zadefinovaným pravidlám túto hodnotu vypočíta náš inferenčný systém ak zavoláme metódu `compute` pre simuláciu:"
   ]
  },
  {
   "cell_type": "code",
   "execution_count": null,
   "metadata": {},
   "outputs": [],
   "source": [
    "my_rating.compute()"
   ]
  },
  {
   "cell_type": "markdown",
   "metadata": {},
   "source": [
    "Následne vieme vypísať vypočítanú hodnotu:"
   ]
  },
  {
   "cell_type": "code",
   "execution_count": null,
   "metadata": {},
   "outputs": [],
   "source": [
    "print(\"The suggested rating is {:.2f}\".format(my_rating.output['rating']))"
   ]
  },
  {
   "cell_type": "markdown",
   "metadata": {},
   "source": [
    "Alebo uvažovanie vieme aj vizualizovať pomocou inferenčného systému:"
   ]
  },
  {
   "cell_type": "code",
   "execution_count": null,
   "metadata": {},
   "outputs": [],
   "source": [
    "rating.view(sim=my_rating)\n",
    "plt.show()"
   ]
  },
  {
   "cell_type": "markdown",
   "metadata": {},
   "source": [
    "Kde výsledok vyzerá nasledovne:\n",
    "\n",
    "![Fuzzy inference result](figures/lab10/10.3-fuzzy-result.png)"
   ]
  },
  {
   "cell_type": "markdown",
   "metadata": {},
   "source": [
    "Na grafe vidíme, že naše hodnotenie najviac patrí do kategórie *priemerné*, avšak čiastočne ho môžeme vnímať ako fuzzy hodnotu *vysoké*."
   ]
  },
  {
   "cell_type": "markdown",
   "metadata": {},
   "source": [
    "### 1.6 Úprava fuzzy systému\n",
    "\n",
    "Vyskúšajte funkčnosť fuzzy systému na ďalších vstupoch a upravte aj niektoré premenné alebo pravidlá aby ste zistili, ako tieto objekty ovplyvňujú výsledok systému."
   ]
  },
  {
   "cell_type": "markdown",
   "metadata": {},
   "source": [
    "## Úloha 2: Bonusová úloha\n",
    "\n",
    "Vytvorte pomocou knižnice `scikit-fuzzy` ďalší fuzzy inferenčný systém, pre ktorý zadefinujte minimálne 5 fuzzy premenných (predpokladov a dôsledkov) a minimálne 10 pravidiel. Do vášho kódu pridajte aj formálnu definíciu premenných a pravidiel (ako v bodoch 1.2 a 1.3) do komentárov. Ak vaše riešenie (Python skript) pošlite cez e-mail do 24. 4. 2020 (do 24:00), môžete získať bonusové body - max. 2 za jednoduchý systém, max. 5 ak systém bude obsahovať pravidlá, kde premenná v dôsledku jedného pravidla bude premennou v predpoklade druhého pravidla."
   ]
  },
  {
   "cell_type": "markdown",
   "metadata": {},
   "source": [
    "**Poznámka:** riešenie cvičenia ako skript [nájdete tu](solutions/lab10_solution.py)."
   ]
  }
 ],
 "metadata": {
  "kernelspec": {
   "display_name": "Python 3",
   "language": "python",
   "name": "python3"
  },
  "language_info": {
   "codemirror_mode": {
    "name": "ipython",
    "version": 3
   },
   "file_extension": ".py",
   "mimetype": "text/x-python",
   "name": "python",
   "nbconvert_exporter": "python",
   "pygments_lexer": "ipython3",
   "version": "3.7.3"
  }
 },
 "nbformat": 4,
 "nbformat_minor": 2
}
