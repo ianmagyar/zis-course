{
 "cells": [
  {
   "cell_type": "markdown",
   "metadata": {},
   "source": [
    "# Cvičenie 2: Údajové štruktúry a algoritmizácia v Pythone"
   ]
  },
  {
   "cell_type": "markdown",
   "metadata": {},
   "source": [
    "Na dnešnom cvičení budeme pokračovať v programovaní v Pythone, najprv sa ale oboznámime s tromi údajovými štruktúrami, ktoré budeme často využívať počas semestra, a sú to zoznamy, n-tice a mapy."
   ]
  },
  {
   "cell_type": "markdown",
   "metadata": {},
   "source": [
    "## 1. Zoznamy"
   ]
  },
  {
   "cell_type": "markdown",
   "metadata": {},
   "source": [
    "[Zoznamy](https://docs.python.org/3/library/stdtypes.html#sequence-types-list-tuple-range) (list) sú množiny zoradených prvkov ku ktorým vieme pristupovať cez poradové čísla (indexy). Zoznamy sú veľmi podobné poľom (array) z C, majú ale niekoľko špecifických vlastností. Definujú sa vymenovaním prvkov v hranatých zátvorkách, alebo viete definovať aj prázdny zoznam:"
   ]
  },
  {
   "cell_type": "code",
   "execution_count": null,
   "metadata": {},
   "outputs": [],
   "source": [
    "my_list = [1, 2, 3, 4, 5]\n",
    "empty_list1 = []\n",
    "empty_list2 = list()"
   ]
  },
  {
   "cell_type": "markdown",
   "metadata": {},
   "source": [
    "Ak chcete načítať hodnotu niektorého prvka na danom indexe, urobíte to zadaním indexu podobne ako v C (indexovanie začne od 0):"
   ]
  },
  {
   "cell_type": "code",
   "execution_count": null,
   "metadata": {},
   "outputs": [],
   "source": [
    "my_list[2]  # výsledok je 3"
   ]
  },
  {
   "cell_type": "markdown",
   "metadata": {},
   "source": [
    "Python podporuje aj záporné indexy (indexovanie zo zadu), posledný prvok načítate cez index -1:"
   ]
  },
  {
   "cell_type": "code",
   "execution_count": null,
   "metadata": {},
   "outputs": [],
   "source": [
    "my_list[-1]  # výsledok je 5"
   ]
  },
  {
   "cell_type": "markdown",
   "metadata": {},
   "source": [
    "Python nám umožňuje načítať aj časť zoznamu, teda viac prvkov cez tzv. [slicing](https://python-reference.readthedocs.io/en/latest/docs/brackets/slicing.html):"
   ]
  },
  {
   "cell_type": "code",
   "execution_count": null,
   "metadata": {},
   "outputs": [],
   "source": [
    "my_list[1:4]  # výsledok je [2, 3, 4]"
   ]
  },
  {
   "cell_type": "markdown",
   "metadata": {},
   "source": [
    "Podobne ako v C poli, aj v zozname dokážeme aktualizovať hodnoty jednotlivých prvkov cez indexy:"
   ]
  },
  {
   "cell_type": "code",
   "execution_count": null,
   "metadata": {},
   "outputs": [],
   "source": [
    "my_list[0] = 0\n",
    "print(my_list)  # vypíše [0, 2, 3, 4, 5]"
   ]
  },
  {
   "cell_type": "markdown",
   "metadata": {},
   "source": [
    "Pre pridávanie prvkov na koniec zoznamu slúži funkcia `append`, pre pridávanie na ľubovoľnú pozíciu môžete použiť funkciu `insert`:"
   ]
  },
  {
   "cell_type": "code",
   "execution_count": null,
   "metadata": {},
   "outputs": [],
   "source": [
    "my_list.append(6)  # pridá prvok na koniec\n",
    "print(my_list)\n",
    "\n",
    "my_list.insert(1, 1)  # pridá číslo 1 pred 1. pozíciu\n",
    "print(my_list)"
   ]
  },
  {
   "cell_type": "markdown",
   "metadata": {},
   "source": [
    "Ak chcete vymazať prvok zo zonamu, zavolajte funkciu `remove` alebo `pop`. Funkcia `clear` vymaže obsah celého zoznamu:"
   ]
  },
  {
   "cell_type": "code",
   "execution_count": null,
   "metadata": {},
   "outputs": [],
   "source": [
    "my_list.remove(3)  # vymaže číslo 3 zo zoznamu\n",
    "print(my_list)\n",
    "\n",
    "my_list.pop(2)  # vymaže prvok z indexu 2\n",
    "print(my_list)\n",
    "\n",
    "my_list.clear()  # vymaže obsah celého zoznamu (nevymaže ale zoznam)\n",
    "print(my_list)"
   ]
  },
  {
   "cell_type": "markdown",
   "metadata": {},
   "source": [
    "Pre zistenie príslušnosti hodnoty použite operátor `in`:"
   ]
  },
  {
   "cell_type": "code",
   "execution_count": null,
   "metadata": {},
   "outputs": [],
   "source": [
    "my_list = [1, 1, 2, 3]\n",
    "print(3 in my_list)\n",
    "print(4 in my_list)"
   ]
  },
  {
   "cell_type": "markdown",
   "metadata": {},
   "source": [
    "Ďalšími dôležitými funkciami pre zoznamy sú `len` (určí dĺžku ľubovoľnej postupnosti), `count` (určí počet výskytov niektorej hodnoty v zozname) a `copy` (vytvorí kópiu zoznamu - ak nechcete meniť obsah pôvodného zoznamu):"
   ]
  },
  {
   "cell_type": "code",
   "execution_count": null,
   "metadata": {},
   "outputs": [],
   "source": [
    "print(len(my_list))  # vypíše 4\n",
    "print(my_list.count(1))  # vypíše 2\n",
    "\n",
    "list_copy1 = my_list\n",
    "list_copy1[0] = 0  # upraví aj my_list\n",
    "print(list_copy1)\n",
    "print(my_list)\n",
    "\n",
    "list_copy = my_list.copy()\n",
    "list_copy[0] = 1  # mení iba list_copy\n",
    "print(list_copy)\n",
    "print(my_list)"
   ]
  },
  {
   "cell_type": "markdown",
   "metadata": {},
   "source": [
    "Jedna dôležitá poznámka: síce v Pythone zoznam môže obsahovať prvky rôzneho typu, zvyčajne sa ale na takéto skupiny hodnôt používajú n-tice."
   ]
  },
  {
   "cell_type": "code",
   "execution_count": null,
   "metadata": {},
   "outputs": [],
   "source": [
    "varied_list = [True, 'abc', 3, 0.1]\n",
    "print(varied_list)"
   ]
  },
  {
   "cell_type": "markdown",
   "metadata": {},
   "source": [
    "## 2. N-tice"
   ]
  },
  {
   "cell_type": "markdown",
   "metadata": {},
   "source": [
    "[N-tice](https://docs.python.org/3/library/stdtypes.html#sequence-types-list-tuple-range) (tuples) sú nemenné údajové štruktúry veľmi podobné zoznamom, avšak po ich vytvorení ich nemôžeme meniť. Zvyčajne obsahujú prvky rôzneho typu ktoré počas behu kódu nie je potrebné meniť. Definujete ich v jednoduchých zátvorkách, ak chcete vytvoriť n-ticu s jednou hodnotou, po hodnote musíte napísať aj čiarku:"
   ]
  },
  {
   "cell_type": "code",
   "execution_count": null,
   "metadata": {},
   "outputs": [],
   "source": [
    "my_tuple = ('Janko', 'Hraško', 19)\n",
    "my_tuple1 = (5,)\n",
    "print(my_tuple)\n",
    "print(my_tuple1)"
   ]
  },
  {
   "cell_type": "markdown",
   "metadata": {},
   "source": [
    "Pri práci s n-ticami viete použiť podobné funkcie a operátory ako pri zoznamoch: funguje tu rovnako načítanie hodnoty, slicing (výber časti n-tice), `len` pre určenie dĺžky n-tice, `index` pre zistenie pozície hodnoty a `count` pre určenie počtu výskytov hodnoty."
   ]
  },
  {
   "cell_type": "markdown",
   "metadata": {},
   "source": [
    "## 3. Mapy"
   ]
  },
  {
   "cell_type": "markdown",
   "metadata": {},
   "source": [
    "[Mapy](https://docs.python.org/3/library/stdtypes.html#mapping-types-dict) (alebo slovníky - dictionary) sú údajové štruktúry so všeobecným indexovaním. To znamená, že mapy obsahujú v sebe niekoľko hodnôt takisto ako zoznamy, k týmto hodnotám ale viete pristupovať nie iba cez číselné indexy, ale cez (skoro) ľubovoľné hodnoty. Každý záznam v mape je dvojica kľúč-hodnota, kde kľúč slúži ako index a hodnota môže byť ľubovoľného typu. Jedna mapa môže obsahovať aj kľúče aj hodnoty rôzneho typu a definuje sa pomocou zložených zátvoriek:"
   ]
  },
  {
   "cell_type": "code",
   "execution_count": null,
   "metadata": {},
   "outputs": [],
   "source": [
    "my_dictionary = {\n",
    "    'an_int': 1,\n",
    "    'a_boolean': True,\n",
    "    'a_list': [2, 3, 4] \n",
    "}"
   ]
  },
  {
   "cell_type": "markdown",
   "metadata": {},
   "source": [
    "Ak chcete pridať novú hodnotu do mapy pod nový kľúč, urobíte to nasledovne:"
   ]
  },
  {
   "cell_type": "code",
   "execution_count": null,
   "metadata": {},
   "outputs": [],
   "source": [
    "my_dictionary['a_string'] = 'abc'\n",
    "print(my_dictionary)"
   ]
  },
  {
   "cell_type": "markdown",
   "metadata": {},
   "source": [
    "Ak chcete upraviť hodnotu pod existujúcim kľúčom, urobíte to na základe typu danej hodnoty, napr.:"
   ]
  },
  {
   "cell_type": "code",
   "execution_count": null,
   "metadata": {},
   "outputs": [],
   "source": [
    "my_dictionary['a_list'].append(5)\n",
    "print(my_dictionary['a_list'])"
   ]
  },
  {
   "cell_type": "markdown",
   "metadata": {},
   "source": [
    "Ako vidíte aj na vyšších príkladoch, pristupovanie funguje rovnako ako pri zoznamoch a n-ticiach, avšak s kľúčmi rôzneho typu. Takisto funguje operátor príslušnosti `in` (vyhľadáva medzi kľúčmi), `len` (počet kľúčov), `clear` (vymaže obsah mapy), a `copy` (vytvorí kópiu mapy). Hlavné funkcie jedinečné pre mapy sú `keys` (vráti pohľad na všetky kľúče mapy), `values` (vráti pohľad na všetky hodnoty v mape) a `items` (vráti pohľad na dvojice kľúč-hodnota v mape):"
   ]
  },
  {
   "cell_type": "code",
   "execution_count": null,
   "metadata": {},
   "outputs": [],
   "source": [
    "print(my_dictionary.keys())\n",
    "print(my_dictionary.values())\n",
    "print(my_dictionary.items())"
   ]
  },
  {
   "cell_type": "markdown",
   "metadata": {},
   "source": [
    "## 4. Úlohy"
   ]
  },
  {
   "cell_type": "markdown",
   "metadata": {},
   "source": [
    "### 4.1. Počet násobkov\n",
    "\n",
    "Vytvorte funkciu s dvomi parametrami, ktoré reprezentujú začiatok a koniec intervalu prirodzených čísel. Funkcia nech vracia dictionary, ktorý obsahuje dvojice kľúč-hodnota, kde kľúče sú celé čísla od 1 po 10 a príslušná hodnota je počet násobkov daného čísla v určenom intervale. Napríklad pre interval 1-10 výsledok bude slovník:\n",
    "\n",
    "`{1: 10, 2: 5, 3: 3, 4: 2, 5: 2, 6: 1, 7: 1, 8: 1, 9: 1, 10: 1}`"
   ]
  },
  {
   "cell_type": "markdown",
   "metadata": {},
   "source": [
    "### 4.2. Fibonacciho čísla - inak\n",
    "\n",
    "Na minulom cvičení ste už vytvorili funkciu, ktorá postupne vypočítavala a vypisovala prvky Fibonacciho postupnosti. Teraz implementujte funkciu s jedným parametrom (*n*), ktorá vráti zoznam prvých *n* Fibonacciho čísel, ako prvé dva prvky postupnosti použite čísla 1, 1."
   ]
  },
  {
   "cell_type": "markdown",
   "metadata": {},
   "source": [
    "### 4.3. Pravouhlé trojuholníky\n",
    "\n",
    "Vytvorte funkciu, ktorá dostane ako parameter jedno celé číslo, ktoré reprezentuje obvod trojuholníka. Funkcia má nájsť a vrátiť všetky možné pravouhlé trojuholníky s daným obvodom ak dĺžky strán môžu byť iba celé čísla. Funkcia vráti zoznam n-tíc.\n",
    "\n",
    "Napríklad pre číslo 120 funkcia vráti zoznam `[(20, 48, 52), (24, 45, 51), (30, 40, 50)]`."
   ]
  },
  {
   "cell_type": "markdown",
   "metadata": {},
   "source": [
    "\n",
    "### 4.4. Generovanie trojuholníkov\n",
    "\n",
    "Trojuholník sa dá zostrojiť iba v prípade, ak súčet dĺžok dvoch ľubovoľných strán je väčší ako dĺžka tretej strany. Napíšte funkciu, ktorá dostane ako parameter zoznam celých čísel, z ktorých chcete zostrojiť trojuholník. Funkcia vráti zoznam trojíc (list of tuples), kde jedna trojica reprezentuje dĺžky strán trojuholníka a zoznam obsahuje všetky trojuholníky, ktoré viete zostrojiť z možností."
   ]
  },
  {
   "cell_type": "markdown",
   "metadata": {},
   "source": [
    "### 4.5. Súčet číslic\n",
    "\n",
    "Vytvorte funkciu, ktorá dostane ako parameter celé číslo a vráti súčet číslic tohto čísla (použite operátor `%` alebo pretypovanie)."
   ]
  },
  {
   "cell_type": "markdown",
   "metadata": {},
   "source": [
    "### 4.6. Divné faktoriály\n",
    "\n",
    "Číslo 145 je špeciálne, keďže súčet faktoriálov jeho číslic je samotné číslo: 1! + 4! + 5! = 145. Nájdite všetky čísla od 1 po 10 000, pre ktoré platí táto podmienka!"
   ]
  },
  {
   "cell_type": "markdown",
   "metadata": {},
   "source": [
    "### Bonusové úlohy\n",
    "\n",
    "Ak potrebujete ďalšie úlohy pre jednoduchú algoritmizáciu, tisíce podobných úloh nájdete na web stránke [Project Euler](https://projecteuler.net)."
   ]
  }
 ],
 "metadata": {
  "kernelspec": {
   "display_name": "Python 3",
   "language": "python",
   "name": "python3"
  },
  "language_info": {
   "codemirror_mode": {
    "name": "ipython",
    "version": 3
   },
   "file_extension": ".py",
   "mimetype": "text/x-python",
   "name": "python",
   "nbconvert_exporter": "python",
   "pygments_lexer": "ipython3",
   "version": "3.7.4"
  }
 },
 "nbformat": 4,
 "nbformat_minor": 2
}
